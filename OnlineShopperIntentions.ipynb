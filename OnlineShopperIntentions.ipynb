{
 "cells": [
  {
   "cell_type": "markdown",
   "metadata": {},
   "source": [
    "<hr style=\"border:2px solid gray\"> </hr>\n",
    "\n",
    "<h1><center>Predicting the Purchasing Behavior of Online Shoppers</center></h1>\n",
    "\n",
    "<hr style=\"border:2px solid gray\"> </hr>\n",
    "\n",
    "### CS530-01, Spring 2020  \n",
    "**Emily Daskas** - *Data Preprocessing & Visualization, Model Construction, Presentation* <br/> \n",
    "**Lily Foster** - *Intro to Dataset, Define Project, Conclusion/Future Plans, Report Formatting, Presentation* <br/> \n",
    "**Goldie Malamud** - *Data Preprocessing & Visualization, Model Construction, Presentation* <br/>\n",
    "\n",
    "---\n",
    "***We completed the entirety of this project on Zoom via screen sharing and Remote Control access as a group. This allowed us to talk through all of our ideas and collaborate on each section.***"
   ]
  },
  {
   "cell_type": "markdown",
   "metadata": {
    "cell_id": "26fcda1b-02d0-4b1c-a832-a763eaccd561",
    "tags": []
   },
   "source": [
    "<hr style=\"border:1px solid gray\"> </hr>\n",
    "<hr style=\"border:1px solid gray\"> </hr>\n",
    "\n",
    "<h2><center>An Introduction to the Dataset (10%)</center></h2>\n",
    "\n",
    "<hr style=\"border:1px solid gray\"> </hr>\n",
    "\n",
    "&nbsp;&nbsp;&nbsp;&nbsp;&nbsp;&nbsp;\n",
    "We analyzed the [\"Online Shoppers Purchasing Intention Dataset\"](http://archive.ics.uci.edu/ml/datasets/Online+Shoppers+Purchasing+Intention+Dataset), obtained from the UCI Machine Learning Repository where it was donated in August 2018. This dataset contains metrics, as pulled from Google Analytics, of an undisclosed e-commerce website regarding the customer behavior for each session on their website over a one year period. It shows 12,330 sessions, with 10 numerical attributes and 8 categorical attributes as described below:\n",
    "\n",
    "\n",
    "### <u>Numerical Features:</u>\n",
    "\n",
    "| Feature Name | `Variable Name` | Feature Description | Min. Value | Max. Value | SD |\n",
    "| :----------- | :- | :------------------ | :--------: | :--------: | :-: |\n",
    "| ***Administrative*** | `Administrative` | Number of pages visited by the visitor about account management | 0 | 27 | 3.32 |\n",
    "| ***Administrative Duration*** | `Administrative_Duration` | Total amount of time (in seconds) spent by the visitor on account management related pages | 0 |3,398 | 176.70 |\n",
    "| ***Informational*** | `Informational` | Number of pages visited by the visitor about the website, communication and address information of the shopping site | 0 | 24 | 1.26 |\n",
    "| ***Informational Duration*** | `Informational_Duration` |Total number of time (in seconds) spent by the visitor on informational pages | 0 | 2,549 | 140.64 |\n",
    "| ***Product Related*** | `ProductRelated` | Number of pages visited by visitor about product-related pages | 0 | 705 | 44.45 |\n",
    "| ***Product Related Duration*** | `ProductRelated_Duration` | Total amount of time (in seconds) spent by the visitor on product related pages | 0 | 63,973 | 1,912.25 |\n",
    "| ***Bounce Rate*** | `BounceRates` | Average bounce rate value of the pages visited by the visitor | 0 | 0.2 | 0.04 |\n",
    "| ***Exit Rate*** | `ExitRates` | Average exit rate value of the pages visited by the visitor | 0 | 0.2 | 0.05 |\n",
    "| ***Page Value*** | `PageValues` | Average page value of the pages visited by the visitor | 0 | 361 | 18.55 |\n",
    "| ***Special Day*** | `SpecialDay` | Closeness of the time of the session to a special day/holiday | 0 | 1.0 | 0.19 |\n",
    "\n",
    "---\n",
    "\n",
    "### <u>Categorical Features:</u>\n",
    "\n",
    "| Feature Name | `Variable Name` | Feature Description | Number of <br/> Categorical Values |\n",
    "| :----------- | :- | :------------------ | :--------------------------: |\n",
    "| ***Operating Systems*** | `OperatingSystems` | Operating system of computer used by the visitor to reach website| 8 |\n",
    "| ***Browser*** | `Browser` | Internet brower used by visitor to access website | 13 |\n",
    "| ***Region*** | `Region` | Geographic region from which the visitor started their session on website | 9 |\n",
    "| ***Traffic Type*** | `TrafficType` | Traffic source that brought visitor to website (e.g., banner, SMS, direct) | 20 |\n",
    "| ***Visitor Type*** | `VisitorType` | Category of visitor as either \"*New Visitor*\", \"*Returning Visitor*\", or \"*Other*\" | 3 |\n",
    "| ***Weekend*** | `Weekend` | Boolean value indicating whether the visitor accessed the website on a weekend (Saturday or Sunday) | 2 |\n",
    "| ***Month*** | `Month` | Month from date visitor accessed website | 12 |\n",
    "| ***Revenue*** | `Revenue` | Boolean value indicating whether the website session resulted in a transaction | 2 |\n",
    "\n"
   ]
  },
  {
   "cell_type": "markdown",
   "metadata": {
    "cell_id": "c98970d5-c730-4aa3-a854-32bdbc6cabc8",
    "tags": []
   },
   "source": [
    "<hr style=\"border:1px solid gray\"> </hr>\n",
    "<hr style=\"border:1px solid gray\"> </hr>\n",
    "\n",
    "<h2><center>Define the Problem (10%)</center></h2>\n",
    "\n",
    "<hr style=\"border:1px solid gray\"> </hr>\n",
    "\n",
    "&nbsp;&nbsp;&nbsp;&nbsp;&nbsp;&nbsp;\n",
    "Our goal is to use the Online Shopper Intensions dataset to create a classification model to predict whether or not a customer will make a purchase based on their behavior while visiting the e-commerce website. We were interested in this dataset because it gives us the opportunity to explore valuble information regarding the efficiency and success of an e-commerce site, that can hopefully then be applied to future websites as well. Determining which features have the greatest impact on a user in influencing their purchasing decisions can ultimately help to increase a business's overall revenue by directing them towards which types of pages on their website to focus on, when to hold sales, etc. The main assumption that we're making about this dataset is that each session is unique in terms of the website's individual visitor. Realistically, a customer may visit the website, leave without making a purchase, and then return the next day to make their purchase. However, we don't have access to this information and therefore are making the assumption for this report that each session is an isolated case. Our main task is to identify the features that hold the most significance when predicting Revenue. The problem we're trying to solve is finding the best-fit model to our dataset that yields the highest test accuracy and AUC scores. Therefore, the `'Revenue'` column is our target variable. "
   ]
  },
  {
   "cell_type": "markdown",
   "metadata": {
    "cell_id": "0947399a-d4a4-4f1c-b801-4587a5ac954e",
    "tags": []
   },
   "source": [
    "<hr style=\"border:1px solid gray\"> </hr>\n",
    "<hr style=\"border:1px solid gray\"> </hr>\n",
    "\n",
    "<h2><center>Functions used for Data Preprocessing and Visualization:</center></h2>\n",
    "\n",
    "<hr style=\"border:1px solid gray\"> </hr>"
   ]
  },
  {
   "cell_type": "markdown",
   "metadata": {},
   "source": [
    "**The following cells declare functions to be used for preprocessing of the dataset:**\n",
    "\n",
    "> `'find_anomalies()'`: Identifies outliers in the dataset.\n",
    "\n",
    "> `'replace_outliers_mean(column)'`: A function that takes in a column name and replaces the outliers with the mean of that column\n",
    "\n",
    "> `'replace0_outliers_mean(column)'`: A function that is similar to the ***replace_outliers_mean*** function, but is intended to be used for zero-inflated features. It handles zero-inflated data by removing all rows with containing zeros in it prior to finding the outliers. When it finds the outliers, it replaces them with the mean of that column and then places the zeros back in.\n"
   ]
  },
  {
   "cell_type": "code",
   "execution_count": 1,
   "metadata": {},
   "outputs": [],
   "source": [
    "# Function to Detection Outlier on one-dimentional datasets.\n",
    "def find_anomalies(random_data):\n",
    "    anomalies = []\n",
    "    # Set upper and lower limit to 3 standard deviation\n",
    "    random_data_std = np.std(random_data)\n",
    "    random_data_mean = np.mean(random_data)\n",
    "    anomaly_cut_off = random_data_std * 3\n",
    "    \n",
    "    lower_limit  = random_data_mean - anomaly_cut_off \n",
    "    upper_limit = random_data_mean + anomaly_cut_off\n",
    "    # Generate outliers\n",
    "    for outlier in random_data:\n",
    "        if outlier > upper_limit or outlier < lower_limit:\n",
    "            anomalies.append(random_data.index(outlier))\n",
    "    return anomalies\n",
    "\n",
    "\n",
    "\n",
    "# Functions to find outliers       \n",
    "def replace_outliers_mean(column):\n",
    "    temp = []\n",
    "    for i in df[column]:\n",
    "        temp.append(i)\n",
    "    mean = np.mean(temp) \n",
    "    outlier_index = find_anomalies(temp)\n",
    "    for i in outlier_index:\n",
    "        df[column][i] = mean\n",
    "        \n",
    "        \n",
    "# Functions to find outliers of zero inflated data\n",
    "# Removes all rows with zeros, finds outliers, then places zero rows back into dataset\n",
    "def replace0_outliers_mean(column):\n",
    "    temp = []\n",
    "    for i in df[column]:\n",
    "        if i != 0:\n",
    "            temp.append(i)\n",
    "    meanTemp = np.mean(temp) \n",
    "    outlier_index = find_anomalies(temp)\n",
    "    for i in outlier_index:\n",
    "        df[column][i] = meanTemp\n"
   ]
  },
  {
   "cell_type": "markdown",
   "metadata": {},
   "source": [
    "<hr style=\"border:1px solid gray\"> </hr>\n",
    "<hr style=\"border:1px solid gray\"> </hr>\n",
    "\n",
    "<h2><center>Data Preprocessing and Visualization (25%)</center></h2>\n",
    "\n",
    "<hr style=\"border:1px solid gray\"> </hr>"
   ]
  },
  {
   "cell_type": "code",
   "execution_count": 2,
   "metadata": {
    "cell_id": "883b0f5c-457b-4d5d-8586-9d7a797b41ba"
   },
   "outputs": [
    {
     "name": "stdout",
     "output_type": "stream",
     "text": [
      "Python 3.7.4\r\n"
     ]
    }
   ],
   "source": [
    "!python --version\n",
    "from sklearn.model_selection import train_test_split\n",
    "import pandas as pd\n",
    "import numpy as np\n",
    "\n",
    "from sklearn.linear_model import LogisticRegression\n",
    "from sklearn.metrics import roc_auc_score\n",
    "from sklearn.gaussian_process import GaussianProcessClassifier\n",
    "from sklearn.gaussian_process.kernels import RBF\n",
    "from sklearn.tree import DecisionTreeClassifier\n",
    "from sklearn.ensemble import RandomForestClassifier, AdaBoostClassifier\n",
    "from sklearn.naive_bayes import GaussianNB\n",
    "from sklearn.discriminant_analysis import LinearDiscriminantAnalysis\n",
    "from sklearn import model_selection\n",
    "from sklearn.metrics import accuracy_score\n",
    "from sklearn.neighbors import KNeighborsClassifier\n",
    "from sklearn.datasets import make_classification\n",
    "from sklearn.svm import SVC\n",
    "from sklearn.decomposition import PCA\n",
    "from sklearn.metrics import r2_score\n",
    "from sklearn.metrics import roc_curve\n",
    "import matplotlib.pyplot as plt \n",
    "from matplotlib import pyplot\n",
    "from sklearn import preprocessing\n",
    "import numpy as np\n",
    "import matplotlib.pyplot as plt\n",
    "from sklearn.model_selection import KFold\n",
    "\n"
   ]
  },
  {
   "cell_type": "markdown",
   "metadata": {},
   "source": [
    "<hr style=\"border:1px solid gray\"> </hr>\n",
    "\n",
    "&nbsp;&nbsp;**1)** &nbsp;&nbsp;&nbsp;We first read in the dataset as a .csv file, downloaded directly from the UCI Machine Learning Repository [website](http://archive.ics.uci.edu/ml/datasets/Online+Shoppers+Purchasing+Intention+Dataset).\n",
    "\n",
    "<hr style=\"border:1px solid gray\"> </hr>"
   ]
  },
  {
   "cell_type": "code",
   "execution_count": 3,
   "metadata": {},
   "outputs": [
    {
     "data": {
      "text/html": [
       "<div>\n",
       "<style scoped>\n",
       "    .dataframe tbody tr th:only-of-type {\n",
       "        vertical-align: middle;\n",
       "    }\n",
       "\n",
       "    .dataframe tbody tr th {\n",
       "        vertical-align: top;\n",
       "    }\n",
       "\n",
       "    .dataframe thead th {\n",
       "        text-align: right;\n",
       "    }\n",
       "</style>\n",
       "<table border=\"1\" class=\"dataframe\">\n",
       "  <thead>\n",
       "    <tr style=\"text-align: right;\">\n",
       "      <th></th>\n",
       "      <th>Administrative</th>\n",
       "      <th>Administrative_Duration</th>\n",
       "      <th>Informational</th>\n",
       "      <th>Informational_Duration</th>\n",
       "      <th>ProductRelated</th>\n",
       "      <th>ProductRelated_Duration</th>\n",
       "      <th>BounceRates</th>\n",
       "      <th>ExitRates</th>\n",
       "      <th>PageValues</th>\n",
       "      <th>SpecialDay</th>\n",
       "      <th>Month</th>\n",
       "      <th>OperatingSystems</th>\n",
       "      <th>Browser</th>\n",
       "      <th>Region</th>\n",
       "      <th>TrafficType</th>\n",
       "      <th>VisitorType</th>\n",
       "      <th>Weekend</th>\n",
       "      <th>Revenue</th>\n",
       "    </tr>\n",
       "  </thead>\n",
       "  <tbody>\n",
       "    <tr>\n",
       "      <td>0</td>\n",
       "      <td>0</td>\n",
       "      <td>0.0</td>\n",
       "      <td>0</td>\n",
       "      <td>0.0</td>\n",
       "      <td>1</td>\n",
       "      <td>0.000000</td>\n",
       "      <td>0.20</td>\n",
       "      <td>0.20</td>\n",
       "      <td>0.0</td>\n",
       "      <td>0.0</td>\n",
       "      <td>Feb</td>\n",
       "      <td>1</td>\n",
       "      <td>1</td>\n",
       "      <td>1</td>\n",
       "      <td>1</td>\n",
       "      <td>Returning_Visitor</td>\n",
       "      <td>False</td>\n",
       "      <td>False</td>\n",
       "    </tr>\n",
       "    <tr>\n",
       "      <td>1</td>\n",
       "      <td>0</td>\n",
       "      <td>0.0</td>\n",
       "      <td>0</td>\n",
       "      <td>0.0</td>\n",
       "      <td>2</td>\n",
       "      <td>64.000000</td>\n",
       "      <td>0.00</td>\n",
       "      <td>0.10</td>\n",
       "      <td>0.0</td>\n",
       "      <td>0.0</td>\n",
       "      <td>Feb</td>\n",
       "      <td>2</td>\n",
       "      <td>2</td>\n",
       "      <td>1</td>\n",
       "      <td>2</td>\n",
       "      <td>Returning_Visitor</td>\n",
       "      <td>False</td>\n",
       "      <td>False</td>\n",
       "    </tr>\n",
       "    <tr>\n",
       "      <td>2</td>\n",
       "      <td>0</td>\n",
       "      <td>0.0</td>\n",
       "      <td>0</td>\n",
       "      <td>0.0</td>\n",
       "      <td>1</td>\n",
       "      <td>0.000000</td>\n",
       "      <td>0.20</td>\n",
       "      <td>0.20</td>\n",
       "      <td>0.0</td>\n",
       "      <td>0.0</td>\n",
       "      <td>Feb</td>\n",
       "      <td>4</td>\n",
       "      <td>1</td>\n",
       "      <td>9</td>\n",
       "      <td>3</td>\n",
       "      <td>Returning_Visitor</td>\n",
       "      <td>False</td>\n",
       "      <td>False</td>\n",
       "    </tr>\n",
       "    <tr>\n",
       "      <td>3</td>\n",
       "      <td>0</td>\n",
       "      <td>0.0</td>\n",
       "      <td>0</td>\n",
       "      <td>0.0</td>\n",
       "      <td>2</td>\n",
       "      <td>2.666667</td>\n",
       "      <td>0.05</td>\n",
       "      <td>0.14</td>\n",
       "      <td>0.0</td>\n",
       "      <td>0.0</td>\n",
       "      <td>Feb</td>\n",
       "      <td>3</td>\n",
       "      <td>2</td>\n",
       "      <td>2</td>\n",
       "      <td>4</td>\n",
       "      <td>Returning_Visitor</td>\n",
       "      <td>False</td>\n",
       "      <td>False</td>\n",
       "    </tr>\n",
       "    <tr>\n",
       "      <td>4</td>\n",
       "      <td>0</td>\n",
       "      <td>0.0</td>\n",
       "      <td>0</td>\n",
       "      <td>0.0</td>\n",
       "      <td>10</td>\n",
       "      <td>627.500000</td>\n",
       "      <td>0.02</td>\n",
       "      <td>0.05</td>\n",
       "      <td>0.0</td>\n",
       "      <td>0.0</td>\n",
       "      <td>Feb</td>\n",
       "      <td>3</td>\n",
       "      <td>3</td>\n",
       "      <td>1</td>\n",
       "      <td>4</td>\n",
       "      <td>Returning_Visitor</td>\n",
       "      <td>True</td>\n",
       "      <td>False</td>\n",
       "    </tr>\n",
       "  </tbody>\n",
       "</table>\n",
       "</div>"
      ],
      "text/plain": [
       "   Administrative  Administrative_Duration  Informational  \\\n",
       "0               0                      0.0              0   \n",
       "1               0                      0.0              0   \n",
       "2               0                      0.0              0   \n",
       "3               0                      0.0              0   \n",
       "4               0                      0.0              0   \n",
       "\n",
       "   Informational_Duration  ProductRelated  ProductRelated_Duration  \\\n",
       "0                     0.0               1                 0.000000   \n",
       "1                     0.0               2                64.000000   \n",
       "2                     0.0               1                 0.000000   \n",
       "3                     0.0               2                 2.666667   \n",
       "4                     0.0              10               627.500000   \n",
       "\n",
       "   BounceRates  ExitRates  PageValues  SpecialDay Month  OperatingSystems  \\\n",
       "0         0.20       0.20         0.0         0.0   Feb                 1   \n",
       "1         0.00       0.10         0.0         0.0   Feb                 2   \n",
       "2         0.20       0.20         0.0         0.0   Feb                 4   \n",
       "3         0.05       0.14         0.0         0.0   Feb                 3   \n",
       "4         0.02       0.05         0.0         0.0   Feb                 3   \n",
       "\n",
       "   Browser  Region  TrafficType        VisitorType  Weekend  Revenue  \n",
       "0        1       1            1  Returning_Visitor    False    False  \n",
       "1        2       1            2  Returning_Visitor    False    False  \n",
       "2        1       9            3  Returning_Visitor    False    False  \n",
       "3        2       2            4  Returning_Visitor    False    False  \n",
       "4        3       1            4  Returning_Visitor     True    False  "
      ]
     },
     "execution_count": 3,
     "metadata": {},
     "output_type": "execute_result"
    }
   ],
   "source": [
    "#import dataset\n",
    "df = pd.read_csv(\"online_shoppers_intention.csv\")\n",
    "df.head()"
   ]
  },
  {
   "cell_type": "markdown",
   "metadata": {},
   "source": [
    "<hr style=\"border:1px solid gray\"> </hr>\n",
    "\n",
    "&nbsp;&nbsp;**2)** &nbsp;&nbsp;&nbsp;During our initial analysis of the dataset we found there to be a significant number of outliers. Upon further inspection we discovered that the significant number of outliers was due to our data being zero-inflated. Due to there being several features containing around or above 50% zeros, our mean was skewed significantly to the left, causing higher numbers to be falsely considered outliers.<br/>  \n",
    "&nbsp;&nbsp;&nbsp;&nbsp;&nbsp;&nbsp;To handle this situation, as seen in the following cells, we first calculate the percent of zeros for each numerical feature and then plot them on a barchart. We are then easily able to identify which features are near or above our set threshold of 50%, as these are considered to be zero-inflated.\n",
    "<hr style=\"border:1px solid gray\"> </hr>"
   ]
  },
  {
   "cell_type": "code",
   "execution_count": 6,
   "metadata": {
    "scrolled": true
   },
   "outputs": [
    {
     "data": {
      "image/png": "[encoded data removed]",
      "text/plain": [
       "<Figure size 432x288 with 1 Axes>"
      ]
     },
     "metadata": {
      "needs_background": "light"
     },
     "output_type": "display_data"
    }
   ],
   "source": [
    "#making bar chart w/ 0 percents \n",
    "numerical_features = ['Administrative', 'Administrative_Duration', 'Informational', 'Informational_Duration',\n",
    "                        'ProductRelated', 'ProductRelated_Duration', 'BounceRates', 'ExitRates', 'PageValues',\n",
    "                        'SpecialDay']\n",
    "percent0s = []\n",
    "for n in numerical_features:\n",
    "    count = 0\n",
    "    for i in range(len(df[n])):\n",
    "        if df[n][i] == 0:\n",
    "            count += 1\n",
    "    percent0s.append(count/len(df[n])*100)\n",
    "\n",
    "fig = plt.figure()\n",
    "ax = fig.add_axes([0,0,1,1])\n",
    "ax.bar(numerical_features, percent0s)\n",
    "plt.xticks(rotation = 'vertical')\n",
    "plt.title(\"Finding Zero-Inflated Features\")\n",
    "plt.ylabel(\"Percent of Zeros\")\n",
    "plt.axhline(y=50,color = 'red').set_linestyle('--')\n",
    "#ax.set_xticklabels(numerical_features)\n",
    "plt.savefig('Zero_Inflation.png')\n",
    "plt.show()  "
   ]
  },
  {
   "cell_type": "markdown",
   "metadata": {},
   "source": [
    "<hr style=\"border:1px solid gray\"> </hr>\n",
    "\n",
    "&nbsp;&nbsp;&nbsp;&nbsp;&nbsp;&nbsp;\n",
    "From the above chart, we can see that all of the features are zero-inflated, other than `'ProductRelated'`, `'ProductRelated_Duration'`, and `'ExitRates'`. With this information, we were then able to write and use a function, as seen above, to detect the actual outliers and replace them with the mean of the feature. \n",
    "\n",
    "<hr style=\"border:1px solid gray\"> </hr>\n",
    "\n"
   ]
  },
  {
   "cell_type": "code",
   "execution_count": 7,
   "metadata": {},
   "outputs": [
    {
     "name": "stderr",
     "output_type": "stream",
     "text": [
      "/Users/emilydaskas/opt/anaconda3/lib/python3.7/site-packages/ipykernel_launcher.py:40: SettingWithCopyWarning: \n",
      "A value is trying to be set on a copy of a slice from a DataFrame\n",
      "\n",
      "See the caveats in the documentation: http://pandas.pydata.org/pandas-docs/stable/user_guide/indexing.html#returning-a-view-versus-a-copy\n",
      "/Users/emilydaskas/opt/anaconda3/lib/python3.7/site-packages/ipykernel_launcher.py:27: SettingWithCopyWarning: \n",
      "A value is trying to be set on a copy of a slice from a DataFrame\n",
      "\n",
      "See the caveats in the documentation: http://pandas.pydata.org/pandas-docs/stable/user_guide/indexing.html#returning-a-view-versus-a-copy\n"
     ]
    }
   ],
   "source": [
    "#0 inflated replacing outliers\n",
    "replace0_outliers_mean('Administrative')\n",
    "replace0_outliers_mean('Administrative_Duration')\n",
    "replace0_outliers_mean('Informational')\n",
    "replace0_outliers_mean('Informational_Duration')\n",
    "replace0_outliers_mean('BounceRates')\n",
    "\n",
    "#other replacing outliers\n",
    "replace_outliers_mean('ExitRates')\n",
    "replace_outliers_mean('ProductRelated')\n",
    "replace_outliers_mean('ProductRelated_Duration')\n",
    "\n"
   ]
  },
  {
   "cell_type": "markdown",
   "metadata": {},
   "source": [
    "<hr style=\"border:1px solid gray\"> </hr>\n",
    "\n",
    "&nbsp;&nbsp;**3)** &nbsp;&nbsp;&nbsp; Next, we work on Categorical feature selection using label encoding and chi-squared testing. Since we have several features in our dataset that have little or no correlation with our target variable, `'Revenue'`, we need to identify them and drop them from our dataset in order to create the best fit model. First, we use the ordinal label encoder from scikit-learn to encode our Categorical features to Numerical, as seen below:\n",
    "\n",
    "<hr style=\"border:1px solid gray\"> </hr>"
   ]
  },
  {
   "cell_type": "code",
   "execution_count": 8,
   "metadata": {},
   "outputs": [],
   "source": [
    "from sklearn.preprocessing import OrdinalEncoder\n",
    "from sklearn.preprocessing import LabelEncoder\n",
    "\n",
    "def prepare_inputs(X_train, X_test):\n",
    "    oe = OrdinalEncoder()\n",
    "    oe.fit(X_train)\n",
    "    X_train_enc = oe.transform(X_train)\n",
    "    X_test_enc = oe.transform(X_test)\n",
    "    return X_train_enc, X_test_enc\n",
    "\n",
    "\n",
    "def prepare_labels(y_train, y_test):\n",
    "    le = LabelEncoder()\n",
    "    le.fit(y_train)\n",
    "    y_train_enc = le.transform(y_train)\n",
    "    y_test_enc = le.transform(y_test)\n",
    "    return y_train_enc, y_test_enc\n",
    "\n",
    "X = df.iloc[:, :-1]\n",
    "X_cat = df.drop(numerical_features,axis=1)\n",
    "X_cat = X_cat.drop('Revenue',axis=1)\n",
    "y = df.Revenue\n",
    "\n",
    "\n",
    "X_train, X_test, y_train, y_test = train_test_split(X_cat, y, test_size=0.20, random_state = 42)\n",
    "\n",
    "X_train_enc, X_test_enc = prepare_inputs(X_train, X_test) # cat -> numerical\n",
    "y_train_enc, y_test_enc = prepare_labels(y_train, y_test) # labels -> numerical \n"
   ]
  },
  {
   "cell_type": "markdown",
   "metadata": {},
   "source": [
    "<hr style=\"border:1px solid gray\"> </hr>\n",
    "\n",
    "&nbsp;&nbsp;**4)** &nbsp;&nbsp;&nbsp;After encoding our variables, we use chi-squared for feature selection of categorical variables.\n",
    "\n",
    "&nbsp;&nbsp;&nbsp;&nbsp;&nbsp;&nbsp;\n",
    "Chi-squared tests can be used to test the independence of two features, allowing us to perform categorical variable feature selection to indentify which features are highly dependent on our target variable, `'Revenue'`.\n",
    "\n",
    "&nbsp;&nbsp;&nbsp;&nbsp;&nbsp;&nbsp;\n",
    "Below we plot the score from the chi-squared test for each feature to visualize the relationships between each feature, and then allowing us to select which features to keep or drop from our dataset.\n",
    "\n",
    "<hr style=\"border:1px solid gray\"> </hr>"
   ]
  },
  {
   "cell_type": "code",
   "execution_count": 9,
   "metadata": {},
   "outputs": [
    {
     "name": "stdout",
     "output_type": "stream",
     "text": [
      "Feature 0: 66.417453\n",
      "Feature 1: 3.462493\n",
      "Feature 2: 10.798153\n",
      "Feature 3: 3.181041\n",
      "Feature 4: 0.019107\n",
      "Feature 5: 32.630103\n",
      "Feature 6: 5.211405\n"
     ]
    },
    {
     "data": {
      "image/png": "[encoded data removed]",
      "text/plain": [
       "<Figure size 432x288 with 1 Axes>"
      ]
     },
     "metadata": {
      "needs_background": "light"
     },
     "output_type": "display_data"
    }
   ],
   "source": [
    "from sklearn.feature_selection import SelectKBest\n",
    "from sklearn.feature_selection import chi2\n",
    "from matplotlib import pyplot\n",
    "categorical_features =['Month','OperatingSystems','Browser','Region','TrafficType','VisitorType','Weekend']\n",
    "\n",
    "dfCat = pd.DataFrame(X_train_enc, columns = categorical_features)\n",
    "\n",
    "# feature selection\n",
    "def select_features(X_train, y_train, X_test,score):\n",
    "    fs = SelectKBest(score_func=chi2, k='all')\n",
    "    fs.fit(X_train, y_train)\n",
    "    X_train_fs = fs.transform(X_train)\n",
    "    X_test_fs = fs.transform(X_test)\n",
    "    return X_train_fs, X_test_fs, fs\n",
    "\n",
    "# feature selection\n",
    "X_train_fs, X_test_fs, fs = select_features(X_train_enc, y_train_enc, X_test_enc,chi2)\n",
    "# what are scores for the features\n",
    "for i in range(len(fs.scores_)):\n",
    "    print('Feature %d: %f' % (i, fs.scores_[i]))\n",
    "# plot the scores\n",
    "pyplot.bar([i for i in range(len(fs.scores_))], fs.scores_)\n",
    "pyplot.title(\"Cateogrical Vars Chi-Squared Score for Feature Selection\")\n",
    "pyplot.xticks([i for i in range(len(fs.scores_))], categorical_features, rotation=90)\n",
    "\n",
    "pyplot.show()"
   ]
  },
  {
   "cell_type": "code",
   "execution_count": 10,
   "metadata": {},
   "outputs": [],
   "source": [
    "dfCat = dfCat.drop(['OperatingSystems','Browser','Region','TrafficType','Weekend'],axis=1)\n"
   ]
  },
  {
   "cell_type": "markdown",
   "metadata": {},
   "source": [
    "<hr style=\"border:1px solid gray\"> </hr>\n",
    "\n",
    "&nbsp;&nbsp;**5)** &nbsp;&nbsp;&nbsp;Similarly to how we handled our categorical feature selection using chi-squared, we can use ANOVA for our numerical feature selection. Again, we plot the resulting scores below:\n",
    "\n",
    "\n",
    "<hr style=\"border:1px solid gray\"> </hr>"
   ]
  },
  {
   "cell_type": "code",
   "execution_count": 11,
   "metadata": {},
   "outputs": [
    {
     "name": "stdout",
     "output_type": "stream",
     "text": [
      "Feature 0: 743.859561\n",
      "Feature 1: 27098.065023\n",
      "Feature 2: 287.139976\n",
      "Feature 3: 21289.665870\n",
      "Feature 4: 8469.655513\n",
      "Feature 5: 229911.071430\n",
      "Feature 6: 22.400503\n",
      "Feature 7: 22.261258\n",
      "Feature 8: 141946.819292\n",
      "Feature 9: 51.543592\n"
     ]
    },
    {
     "data": {
      "image/png": "[encoded data removed]",
      "text/plain": [
       "<Figure size 432x288 with 1 Axes>"
      ]
     },
     "metadata": {
      "needs_background": "light"
     },
     "output_type": "display_data"
    }
   ],
   "source": [
    "from sklearn.feature_selection import f_classif\n",
    "\n",
    "X_Num = df.drop('Revenue',axis=1)\n",
    "for c in X_Num:\n",
    "    if c in categorical_features:\n",
    "        X_Num = X_Num.drop(c,axis=1)\n",
    "\n",
    "\n",
    "X_train, X_test, y_train, y_test = train_test_split(X_Num, y, test_size=0.20, random_state = 42)\n",
    "\n",
    "X_train_fs, X_test_fs, fs = select_features(X_train, y_train, X_test,f_classif)\n",
    "# what are scores for the features\n",
    "for i in range(len(fs.scores_)):\n",
    "    print('Feature %d: %f' % (i, fs.scores_[i]))\n",
    "# plot the scores\n",
    "pyplot.title(\"ANOVA: Numerical Features for Feature Selection\")\n",
    "pyplot.bar([i for i in range(len(fs.scores_))], fs.scores_)\n",
    "pyplot.xticks([i for i in range(len(fs.scores_))], numerical_features, rotation=90)\n",
    "pyplot.show()\n"
   ]
  },
  {
   "cell_type": "code",
   "execution_count": 12,
   "metadata": {},
   "outputs": [],
   "source": [
    "X_Num = X_Num.drop(['Administrative','Informational','ProductRelated','BounceRates','ExitRates','SpecialDay'],axis =1)\n"
   ]
  },
  {
   "cell_type": "markdown",
   "metadata": {},
   "source": [
    "<hr style=\"border:1px solid gray\"> </hr>\n",
    "\n",
    "&nbsp;&nbsp;**6)** &nbsp;&nbsp;&nbsp;Below, we drop all of the features that we have identified as having low or no correlation to our target variable, `'Revenue'`. This then results in a new, smaller dataframe containing only our top correlated features to be used in the creation of our model.\n",
    "\n",
    "<hr style=\"border:1px solid gray\"> </hr>"
   ]
  },
  {
   "cell_type": "code",
   "execution_count": 13,
   "metadata": {},
   "outputs": [
    {
     "data": {
      "text/html": [
       "<div>\n",
       "<style scoped>\n",
       "    .dataframe tbody tr th:only-of-type {\n",
       "        vertical-align: middle;\n",
       "    }\n",
       "\n",
       "    .dataframe tbody tr th {\n",
       "        vertical-align: top;\n",
       "    }\n",
       "\n",
       "    .dataframe thead th {\n",
       "        text-align: right;\n",
       "    }\n",
       "</style>\n",
       "<table border=\"1\" class=\"dataframe\">\n",
       "  <thead>\n",
       "    <tr style=\"text-align: right;\">\n",
       "      <th></th>\n",
       "      <th>Administrative_Duration</th>\n",
       "      <th>Informational_Duration</th>\n",
       "      <th>ProductRelated_Duration</th>\n",
       "      <th>PageValues</th>\n",
       "      <th>Month</th>\n",
       "      <th>VisitorType</th>\n",
       "      <th>Revenue</th>\n",
       "    </tr>\n",
       "  </thead>\n",
       "  <tbody>\n",
       "    <tr>\n",
       "      <td>0</td>\n",
       "      <td>0.0</td>\n",
       "      <td>0.0</td>\n",
       "      <td>0.000000</td>\n",
       "      <td>0.000000</td>\n",
       "      <td>Feb</td>\n",
       "      <td>Returning_Visitor</td>\n",
       "      <td>False</td>\n",
       "    </tr>\n",
       "    <tr>\n",
       "      <td>1</td>\n",
       "      <td>0.0</td>\n",
       "      <td>0.0</td>\n",
       "      <td>64.000000</td>\n",
       "      <td>0.000000</td>\n",
       "      <td>Feb</td>\n",
       "      <td>Returning_Visitor</td>\n",
       "      <td>False</td>\n",
       "    </tr>\n",
       "    <tr>\n",
       "      <td>2</td>\n",
       "      <td>0.0</td>\n",
       "      <td>0.0</td>\n",
       "      <td>0.000000</td>\n",
       "      <td>0.000000</td>\n",
       "      <td>Feb</td>\n",
       "      <td>Returning_Visitor</td>\n",
       "      <td>False</td>\n",
       "    </tr>\n",
       "    <tr>\n",
       "      <td>3</td>\n",
       "      <td>0.0</td>\n",
       "      <td>0.0</td>\n",
       "      <td>2.666667</td>\n",
       "      <td>0.000000</td>\n",
       "      <td>Feb</td>\n",
       "      <td>Returning_Visitor</td>\n",
       "      <td>False</td>\n",
       "    </tr>\n",
       "    <tr>\n",
       "      <td>4</td>\n",
       "      <td>0.0</td>\n",
       "      <td>0.0</td>\n",
       "      <td>627.500000</td>\n",
       "      <td>0.000000</td>\n",
       "      <td>Feb</td>\n",
       "      <td>Returning_Visitor</td>\n",
       "      <td>False</td>\n",
       "    </tr>\n",
       "    <tr>\n",
       "      <td>...</td>\n",
       "      <td>...</td>\n",
       "      <td>...</td>\n",
       "      <td>...</td>\n",
       "      <td>...</td>\n",
       "      <td>...</td>\n",
       "      <td>...</td>\n",
       "      <td>...</td>\n",
       "    </tr>\n",
       "    <tr>\n",
       "      <td>12325</td>\n",
       "      <td>145.0</td>\n",
       "      <td>0.0</td>\n",
       "      <td>1783.791667</td>\n",
       "      <td>12.241717</td>\n",
       "      <td>Dec</td>\n",
       "      <td>Returning_Visitor</td>\n",
       "      <td>False</td>\n",
       "    </tr>\n",
       "    <tr>\n",
       "      <td>12326</td>\n",
       "      <td>0.0</td>\n",
       "      <td>0.0</td>\n",
       "      <td>465.750000</td>\n",
       "      <td>0.000000</td>\n",
       "      <td>Nov</td>\n",
       "      <td>Returning_Visitor</td>\n",
       "      <td>False</td>\n",
       "    </tr>\n",
       "    <tr>\n",
       "      <td>12327</td>\n",
       "      <td>0.0</td>\n",
       "      <td>0.0</td>\n",
       "      <td>184.250000</td>\n",
       "      <td>0.000000</td>\n",
       "      <td>Nov</td>\n",
       "      <td>Returning_Visitor</td>\n",
       "      <td>False</td>\n",
       "    </tr>\n",
       "    <tr>\n",
       "      <td>12328</td>\n",
       "      <td>75.0</td>\n",
       "      <td>0.0</td>\n",
       "      <td>346.000000</td>\n",
       "      <td>0.000000</td>\n",
       "      <td>Nov</td>\n",
       "      <td>Returning_Visitor</td>\n",
       "      <td>False</td>\n",
       "    </tr>\n",
       "    <tr>\n",
       "      <td>12329</td>\n",
       "      <td>0.0</td>\n",
       "      <td>0.0</td>\n",
       "      <td>21.250000</td>\n",
       "      <td>0.000000</td>\n",
       "      <td>Nov</td>\n",
       "      <td>New_Visitor</td>\n",
       "      <td>False</td>\n",
       "    </tr>\n",
       "  </tbody>\n",
       "</table>\n",
       "<p>12330 rows × 7 columns</p>\n",
       "</div>"
      ],
      "text/plain": [
       "       Administrative_Duration  Informational_Duration  \\\n",
       "0                          0.0                     0.0   \n",
       "1                          0.0                     0.0   \n",
       "2                          0.0                     0.0   \n",
       "3                          0.0                     0.0   \n",
       "4                          0.0                     0.0   \n",
       "...                        ...                     ...   \n",
       "12325                    145.0                     0.0   \n",
       "12326                      0.0                     0.0   \n",
       "12327                      0.0                     0.0   \n",
       "12328                     75.0                     0.0   \n",
       "12329                      0.0                     0.0   \n",
       "\n",
       "       ProductRelated_Duration  PageValues Month        VisitorType  Revenue  \n",
       "0                     0.000000    0.000000   Feb  Returning_Visitor    False  \n",
       "1                    64.000000    0.000000   Feb  Returning_Visitor    False  \n",
       "2                     0.000000    0.000000   Feb  Returning_Visitor    False  \n",
       "3                     2.666667    0.000000   Feb  Returning_Visitor    False  \n",
       "4                   627.500000    0.000000   Feb  Returning_Visitor    False  \n",
       "...                        ...         ...   ...                ...      ...  \n",
       "12325              1783.791667   12.241717   Dec  Returning_Visitor    False  \n",
       "12326               465.750000    0.000000   Nov  Returning_Visitor    False  \n",
       "12327               184.250000    0.000000   Nov  Returning_Visitor    False  \n",
       "12328               346.000000    0.000000   Nov  Returning_Visitor    False  \n",
       "12329                21.250000    0.000000   Nov        New_Visitor    False  \n",
       "\n",
       "[12330 rows x 7 columns]"
      ]
     },
     "execution_count": 13,
     "metadata": {},
     "output_type": "execute_result"
    }
   ],
   "source": [
    "selectedFeaturesDF = df.drop(['OperatingSystems','Browser','Region','TrafficType','Weekend','Administrative',\n",
    "                              'Informational','ProductRelated','BounceRates','ExitRates','SpecialDay'],axis=1)\n",
    "\n",
    "selectedFeaturesDF\n"
   ]
  },
  {
   "cell_type": "markdown",
   "metadata": {},
   "source": [
    "<hr style=\"border:1px solid gray\"> </hr>\n",
    "\n",
    "&nbsp;&nbsp;**7)** &nbsp;&nbsp;&nbsp;We now take our remaining categorical features (`'Month'`, `'VisitorType'`, and `'Revenue'`, our target), and turn them into dummy variables. However, dummy variables are vulnerable to the \"dummy variable trap\", where the transition risks the variables becoming colinear to eachother. \n",
    "\n",
    "&nbsp;&nbsp;&nbsp;&nbsp;&nbsp;&nbsp;&nbsp;&nbsp;For example, `'Revenue'` is a boolean value so it can only be one of two options: true or false. When these are split into dummy variables where the possible values are only 0 and 1, they will be direct inverses of each other and will be perfectly collinear. To prevent this problem, we will drop one generated dummy variable from each feature, by adding the parameter: `drop_first = true`.\n",
    "\n",
    "<hr style=\"border:1px solid gray\"> </hr>"
   ]
  },
  {
   "cell_type": "code",
   "execution_count": 14,
   "metadata": {
    "scrolled": true
   },
   "outputs": [
    {
     "data": {
      "text/html": [
       "<div>\n",
       "<style scoped>\n",
       "    .dataframe tbody tr th:only-of-type {\n",
       "        vertical-align: middle;\n",
       "    }\n",
       "\n",
       "    .dataframe tbody tr th {\n",
       "        vertical-align: top;\n",
       "    }\n",
       "\n",
       "    .dataframe thead th {\n",
       "        text-align: right;\n",
       "    }\n",
       "</style>\n",
       "<table border=\"1\" class=\"dataframe\">\n",
       "  <thead>\n",
       "    <tr style=\"text-align: right;\">\n",
       "      <th></th>\n",
       "      <th>Administrative_Duration</th>\n",
       "      <th>Informational_Duration</th>\n",
       "      <th>ProductRelated_Duration</th>\n",
       "      <th>PageValues</th>\n",
       "      <th>Month_Dec</th>\n",
       "      <th>Month_Feb</th>\n",
       "      <th>Month_Jul</th>\n",
       "      <th>Month_June</th>\n",
       "      <th>Month_Mar</th>\n",
       "      <th>Month_May</th>\n",
       "      <th>Month_Nov</th>\n",
       "      <th>Month_Oct</th>\n",
       "      <th>Month_Sep</th>\n",
       "      <th>VisitorType_Other</th>\n",
       "      <th>VisitorType_Returning_Visitor</th>\n",
       "      <th>Revenue</th>\n",
       "    </tr>\n",
       "  </thead>\n",
       "  <tbody>\n",
       "    <tr>\n",
       "      <td>0</td>\n",
       "      <td>0.0</td>\n",
       "      <td>0.0</td>\n",
       "      <td>0.000000</td>\n",
       "      <td>0.000000</td>\n",
       "      <td>0</td>\n",
       "      <td>1</td>\n",
       "      <td>0</td>\n",
       "      <td>0</td>\n",
       "      <td>0</td>\n",
       "      <td>0</td>\n",
       "      <td>0</td>\n",
       "      <td>0</td>\n",
       "      <td>0</td>\n",
       "      <td>0</td>\n",
       "      <td>1</td>\n",
       "      <td>0</td>\n",
       "    </tr>\n",
       "    <tr>\n",
       "      <td>1</td>\n",
       "      <td>0.0</td>\n",
       "      <td>0.0</td>\n",
       "      <td>64.000000</td>\n",
       "      <td>0.000000</td>\n",
       "      <td>0</td>\n",
       "      <td>1</td>\n",
       "      <td>0</td>\n",
       "      <td>0</td>\n",
       "      <td>0</td>\n",
       "      <td>0</td>\n",
       "      <td>0</td>\n",
       "      <td>0</td>\n",
       "      <td>0</td>\n",
       "      <td>0</td>\n",
       "      <td>1</td>\n",
       "      <td>0</td>\n",
       "    </tr>\n",
       "    <tr>\n",
       "      <td>2</td>\n",
       "      <td>0.0</td>\n",
       "      <td>0.0</td>\n",
       "      <td>0.000000</td>\n",
       "      <td>0.000000</td>\n",
       "      <td>0</td>\n",
       "      <td>1</td>\n",
       "      <td>0</td>\n",
       "      <td>0</td>\n",
       "      <td>0</td>\n",
       "      <td>0</td>\n",
       "      <td>0</td>\n",
       "      <td>0</td>\n",
       "      <td>0</td>\n",
       "      <td>0</td>\n",
       "      <td>1</td>\n",
       "      <td>0</td>\n",
       "    </tr>\n",
       "    <tr>\n",
       "      <td>3</td>\n",
       "      <td>0.0</td>\n",
       "      <td>0.0</td>\n",
       "      <td>2.666667</td>\n",
       "      <td>0.000000</td>\n",
       "      <td>0</td>\n",
       "      <td>1</td>\n",
       "      <td>0</td>\n",
       "      <td>0</td>\n",
       "      <td>0</td>\n",
       "      <td>0</td>\n",
       "      <td>0</td>\n",
       "      <td>0</td>\n",
       "      <td>0</td>\n",
       "      <td>0</td>\n",
       "      <td>1</td>\n",
       "      <td>0</td>\n",
       "    </tr>\n",
       "    <tr>\n",
       "      <td>4</td>\n",
       "      <td>0.0</td>\n",
       "      <td>0.0</td>\n",
       "      <td>627.500000</td>\n",
       "      <td>0.000000</td>\n",
       "      <td>0</td>\n",
       "      <td>1</td>\n",
       "      <td>0</td>\n",
       "      <td>0</td>\n",
       "      <td>0</td>\n",
       "      <td>0</td>\n",
       "      <td>0</td>\n",
       "      <td>0</td>\n",
       "      <td>0</td>\n",
       "      <td>0</td>\n",
       "      <td>1</td>\n",
       "      <td>0</td>\n",
       "    </tr>\n",
       "    <tr>\n",
       "      <td>...</td>\n",
       "      <td>...</td>\n",
       "      <td>...</td>\n",
       "      <td>...</td>\n",
       "      <td>...</td>\n",
       "      <td>...</td>\n",
       "      <td>...</td>\n",
       "      <td>...</td>\n",
       "      <td>...</td>\n",
       "      <td>...</td>\n",
       "      <td>...</td>\n",
       "      <td>...</td>\n",
       "      <td>...</td>\n",
       "      <td>...</td>\n",
       "      <td>...</td>\n",
       "      <td>...</td>\n",
       "      <td>...</td>\n",
       "    </tr>\n",
       "    <tr>\n",
       "      <td>12325</td>\n",
       "      <td>145.0</td>\n",
       "      <td>0.0</td>\n",
       "      <td>1783.791667</td>\n",
       "      <td>12.241717</td>\n",
       "      <td>1</td>\n",
       "      <td>0</td>\n",
       "      <td>0</td>\n",
       "      <td>0</td>\n",
       "      <td>0</td>\n",
       "      <td>0</td>\n",
       "      <td>0</td>\n",
       "      <td>0</td>\n",
       "      <td>0</td>\n",
       "      <td>0</td>\n",
       "      <td>1</td>\n",
       "      <td>0</td>\n",
       "    </tr>\n",
       "    <tr>\n",
       "      <td>12326</td>\n",
       "      <td>0.0</td>\n",
       "      <td>0.0</td>\n",
       "      <td>465.750000</td>\n",
       "      <td>0.000000</td>\n",
       "      <td>0</td>\n",
       "      <td>0</td>\n",
       "      <td>0</td>\n",
       "      <td>0</td>\n",
       "      <td>0</td>\n",
       "      <td>0</td>\n",
       "      <td>1</td>\n",
       "      <td>0</td>\n",
       "      <td>0</td>\n",
       "      <td>0</td>\n",
       "      <td>1</td>\n",
       "      <td>0</td>\n",
       "    </tr>\n",
       "    <tr>\n",
       "      <td>12327</td>\n",
       "      <td>0.0</td>\n",
       "      <td>0.0</td>\n",
       "      <td>184.250000</td>\n",
       "      <td>0.000000</td>\n",
       "      <td>0</td>\n",
       "      <td>0</td>\n",
       "      <td>0</td>\n",
       "      <td>0</td>\n",
       "      <td>0</td>\n",
       "      <td>0</td>\n",
       "      <td>1</td>\n",
       "      <td>0</td>\n",
       "      <td>0</td>\n",
       "      <td>0</td>\n",
       "      <td>1</td>\n",
       "      <td>0</td>\n",
       "    </tr>\n",
       "    <tr>\n",
       "      <td>12328</td>\n",
       "      <td>75.0</td>\n",
       "      <td>0.0</td>\n",
       "      <td>346.000000</td>\n",
       "      <td>0.000000</td>\n",
       "      <td>0</td>\n",
       "      <td>0</td>\n",
       "      <td>0</td>\n",
       "      <td>0</td>\n",
       "      <td>0</td>\n",
       "      <td>0</td>\n",
       "      <td>1</td>\n",
       "      <td>0</td>\n",
       "      <td>0</td>\n",
       "      <td>0</td>\n",
       "      <td>1</td>\n",
       "      <td>0</td>\n",
       "    </tr>\n",
       "    <tr>\n",
       "      <td>12329</td>\n",
       "      <td>0.0</td>\n",
       "      <td>0.0</td>\n",
       "      <td>21.250000</td>\n",
       "      <td>0.000000</td>\n",
       "      <td>0</td>\n",
       "      <td>0</td>\n",
       "      <td>0</td>\n",
       "      <td>0</td>\n",
       "      <td>0</td>\n",
       "      <td>0</td>\n",
       "      <td>1</td>\n",
       "      <td>0</td>\n",
       "      <td>0</td>\n",
       "      <td>0</td>\n",
       "      <td>0</td>\n",
       "      <td>0</td>\n",
       "    </tr>\n",
       "  </tbody>\n",
       "</table>\n",
       "<p>12330 rows × 16 columns</p>\n",
       "</div>"
      ],
      "text/plain": [
       "       Administrative_Duration  Informational_Duration  \\\n",
       "0                          0.0                     0.0   \n",
       "1                          0.0                     0.0   \n",
       "2                          0.0                     0.0   \n",
       "3                          0.0                     0.0   \n",
       "4                          0.0                     0.0   \n",
       "...                        ...                     ...   \n",
       "12325                    145.0                     0.0   \n",
       "12326                      0.0                     0.0   \n",
       "12327                      0.0                     0.0   \n",
       "12328                     75.0                     0.0   \n",
       "12329                      0.0                     0.0   \n",
       "\n",
       "       ProductRelated_Duration  PageValues  Month_Dec  Month_Feb  Month_Jul  \\\n",
       "0                     0.000000    0.000000          0          1          0   \n",
       "1                    64.000000    0.000000          0          1          0   \n",
       "2                     0.000000    0.000000          0          1          0   \n",
       "3                     2.666667    0.000000          0          1          0   \n",
       "4                   627.500000    0.000000          0          1          0   \n",
       "...                        ...         ...        ...        ...        ...   \n",
       "12325              1783.791667   12.241717          1          0          0   \n",
       "12326               465.750000    0.000000          0          0          0   \n",
       "12327               184.250000    0.000000          0          0          0   \n",
       "12328               346.000000    0.000000          0          0          0   \n",
       "12329                21.250000    0.000000          0          0          0   \n",
       "\n",
       "       Month_June  Month_Mar  Month_May  Month_Nov  Month_Oct  Month_Sep  \\\n",
       "0               0          0          0          0          0          0   \n",
       "1               0          0          0          0          0          0   \n",
       "2               0          0          0          0          0          0   \n",
       "3               0          0          0          0          0          0   \n",
       "4               0          0          0          0          0          0   \n",
       "...           ...        ...        ...        ...        ...        ...   \n",
       "12325           0          0          0          0          0          0   \n",
       "12326           0          0          0          1          0          0   \n",
       "12327           0          0          0          1          0          0   \n",
       "12328           0          0          0          1          0          0   \n",
       "12329           0          0          0          1          0          0   \n",
       "\n",
       "       VisitorType_Other  VisitorType_Returning_Visitor  Revenue  \n",
       "0                      0                              1        0  \n",
       "1                      0                              1        0  \n",
       "2                      0                              1        0  \n",
       "3                      0                              1        0  \n",
       "4                      0                              1        0  \n",
       "...                  ...                            ...      ...  \n",
       "12325                  0                              1        0  \n",
       "12326                  0                              1        0  \n",
       "12327                  0                              1        0  \n",
       "12328                  0                              1        0  \n",
       "12329                  0                              0        0  \n",
       "\n",
       "[12330 rows x 16 columns]"
      ]
     },
     "execution_count": 14,
     "metadata": {},
     "output_type": "execute_result"
    }
   ],
   "source": [
    "#creating dummy variables for all categorial feautres\n",
    "df_dummy=pd.get_dummies(data=selectedFeaturesDF,columns=['Month', 'VisitorType', 'Revenue'],drop_first=True)\n",
    "df_dummy.rename(columns={'Revenue_True':'Revenue'},inplace=True)\n",
    "df_dummy"
   ]
  },
  {
   "cell_type": "markdown",
   "metadata": {},
   "source": [
    "<hr style=\"border:1px solid gray\"> </hr>\n",
    "\n",
    "&nbsp;&nbsp;&nbsp;&nbsp;&nbsp;&nbsp;\n",
    "To visualize the direct correlation of `'PageValues'` to `'Revenue'` we created the below plot showing that the higher the Page Value, the more likely that the e-commerce session will result in Revenue. The graph shows that in the one-year period represented in this dataset, Page Values equaling 270.76 or above resulted in revenue 100% of the time.\n",
    "\n",
    "<hr style=\"border:1px solid gray\"> </hr>"
   ]
  },
  {
   "cell_type": "code",
   "execution_count": 15,
   "metadata": {},
   "outputs": [],
   "source": [
    "#show page value vs. revenue count\n",
    "G1 = 0\n",
    "G1_F = 0\n",
    "G2 = 0\n",
    "G3 = 0\n",
    "G4 = 0\n",
    "G4_F = 0\n",
    "G2_F = 0\n",
    "G3_F = 0\n",
    "G5 = 0\n",
    "G5_F = 0\n",
    "G6 = 0\n",
    "G6_F = 0\n",
    "G7 = 0\n",
    "G7_F = 0\n",
    "G8 = 0\n",
    "G8_F = 0\n",
    "G9 = 0\n",
    "G9_F = 0\n",
    "for i in range(len(df['Revenue'])):\n",
    "   \n",
    "    if df['PageValues'][i] == 0:\n",
    "        if df['Revenue'][i] == True:\n",
    "            G1 += 1\n",
    "        else:\n",
    "            G1_F +=1\n",
    "    elif df['PageValues'][i] > 0 and df['PageValues'][i] <=45.125:\n",
    "        \n",
    "        if df['Revenue'][i] == True:\n",
    "            G2 += 1\n",
    "        else:\n",
    "            G2_F +=1\n",
    "    elif df['PageValues'][i] > 45.125 and df['PageValues'][i] <=90.25:\n",
    "        \n",
    "        if df['Revenue'][i] == True:\n",
    "            G3 += 1\n",
    "        else:\n",
    "            G3_F +=1\n",
    "    elif df['PageValues'][i] > 90.25 and df['PageValues'][i] <=135.375:\n",
    "        if df['Revenue'][i] == True:\n",
    "            G4 += 1\n",
    "        else:\n",
    "            G4_F +=1\n",
    "    elif df['PageValues'][i] > 135.375 and df['PageValues'][i] <=180.5:\n",
    "        if df['Revenue'][i] == True:\n",
    "            G5 += 1\n",
    "        else:\n",
    "            G5_F +=1\n",
    "    elif df['PageValues'][i] > 180.5 and df['PageValues'][i] <=225.625:\n",
    "        if df['Revenue'][i] == True:\n",
    "            G6 += 1\n",
    "        else:\n",
    "            G6_F +=1\n",
    "    elif df['PageValues'][i] > 225.625 and df['PageValues'][i] <=270.75:\n",
    "        if df['Revenue'][i] == True:\n",
    "            G7 += 1\n",
    "        else:\n",
    "            G7_F +=1\n",
    "    elif df['PageValues'][i] > 270.75 and df['PageValues'][i] <=315.875:\n",
    "        if df['Revenue'][i] == True:\n",
    "            G8 += 1\n",
    "        else:\n",
    "            G8_F +=1\n",
    "    elif df['PageValues'][i] > 315.875 and df['PageValues'][i] <=361:\n",
    "        if df['Revenue'][i] == True:\n",
    "            G9 += 1\n",
    "        else:\n",
    "            G9_F +=1\n",
    "G1 = (G1/(G1+G1_F))\n",
    "G2 = (G2/(G2+G2_F))\n",
    "G3 = (G3/(G3+G3_F))\n",
    "G4 = (G4/(G4+G4_F))\n",
    "G5 = (G5/(G5+G5_F))\n",
    "G6 = (G6/(G6+G6_F))\n",
    "G7 = (G7/(G7+G7_F))\n",
    "G8 = (G8/(G8+G8_F))\n",
    "G9 = (G9/(G9+G9_F))\n",
    "groups = [G1,G2,G3,G4,G5,G6,G7,G8,G9]"
   ]
  },
  {
   "cell_type": "code",
   "execution_count": 16,
   "metadata": {
    "scrolled": true
   },
   "outputs": [
    {
     "data": {
      "text/plain": [
       "Text(0, 0.5, 'Percent of Users produced Revenue')"
      ]
     },
     "execution_count": 16,
     "metadata": {},
     "output_type": "execute_result"
    },
    {
     "data": {
      "image/png": "[encoded data removed]",
      "text/plain": [
       "<Figure size 432x288 with 1 Axes>"
      ]
     },
     "metadata": {
      "needs_background": "light"
     },
     "output_type": "display_data"
    }
   ],
   "source": [
    "labels = ['0','0 - 45.125','45.126 - 90.25','90.26 - 135.375','135.376 - 180.5','180.6 - 225.625','225.626 - 270.75',\n",
    "         '270.76 - 315.875','315.876 - 361']\n",
    "bar = plt.bar(labels,groups)\n",
    "plt.plot(labels,groups,color = 'r')\n",
    "plt.xticks(rotation = 'vertical')\n",
    "bar[0].set_color('#003f5c')\n",
    "bar[1].set_color('#2f4b7c')\n",
    "bar[2].set_color('#665191')\n",
    "bar[3].set_color('#a05195')\n",
    "bar[4].set_color('#d45087')\n",
    "bar[5].set_color('#f95d6a')\n",
    "bar[6].set_color('#ff7c43')\n",
    "bar[7].set_color('#ffa600')\n",
    "bar[8].set_color('#ffdb99')\n",
    "plt.title('Page Value is Correlated to Revenue Likelihood')\n",
    "plt.xlabel('Page Values')\n",
    "plt.ylabel('Percent of Users produced Revenue')"
   ]
  },
  {
   "cell_type": "markdown",
   "metadata": {
    "cell_id": "27ab4d00-a4fa-4388-81a6-42cc4010b9da",
    "tags": []
   },
   "source": [
    "<hr style=\"border:1px solid gray\"> </hr>\n",
    "<hr style=\"border:1px solid gray\"> </hr>\n",
    "\n",
    "<h2><center>Model Construction (45%)</center></h2>\n",
    "\n",
    "<hr style=\"border:1px solid gray\"> </hr>\n",
    "\n",
    "&nbsp;&nbsp;&nbsp;&nbsp;&nbsp;&nbsp;\n",
    "We first split our data into our test sets and training sets using scikit-learn's 'train_test_split' function from model_selection. We can then begin to construct our model. \n",
    "\n",
    "&nbsp;&nbsp;&nbsp;&nbsp;&nbsp;&nbsp;\n",
    "We have chosen a list of classification models that we think may be effective for our data. We explore the following models: ***KNN***, ***SVC***, ***Random Forest***, ***AdaBoost***, ***Naive Bayes***, ***LDA***, and ***Logisitic Regression***. For each of these models we use *k*-fold cross-validation with 5 splits to find the AUC and accuracy scores, as shown below:\n",
    "\n",
    "<hr style=\"border:1px solid gray\"> </hr>"
   ]
  },
  {
   "cell_type": "code",
   "execution_count": 17,
   "metadata": {},
   "outputs": [],
   "source": [
    "X = df_dummy.iloc[:, :-1]\n",
    "y = df_dummy.Revenue\n",
    "\n",
    "\n",
    "X_train, X_test, y_train, y_test = train_test_split(X, y, test_size=0.20, random_state = 42)\n"
   ]
  },
  {
   "cell_type": "code",
   "execution_count": 18,
   "metadata": {},
   "outputs": [
    {
     "name": "stdout",
     "output_type": "stream",
     "text": [
      "AUC/Accuracy/Model Name\n"
     ]
    },
    {
     "data": {
      "text/plain": [
       "[(0.7414080001571545, 86.02595296025953, 'Nearest Neighbors'),\n",
       " (0.8108314417536983, 84.42822384428223, 'RBF SVM'),\n",
       " (0.8193943856590955, 84.52554744525548, 'Random Forest'),\n",
       " (0.8238055618209789, 82.52230332522304, 'Naive Bayes'),\n",
       " (0.893362224619683, 88.3130575831306, 'Logistic Regression'),\n",
       " (0.8944401859293938, 87.88321167883211, 'LDA'),\n",
       " (0.9131674367638581, 88.78345498783456, 'AdaBoost')]"
      ]
     },
     "execution_count": 18,
     "metadata": {},
     "output_type": "execute_result"
    }
   ],
   "source": [
    "#models to explore\n",
    "clfs = {\n",
    "    \"Nearest Neighbors\": KNeighborsClassifier(3),\n",
    "    \"RBF SVM\": SVC(gamma='auto'),\n",
    "    \"Random Forest\": RandomForestClassifier(max_depth=2, n_estimators=10, max_features=1),\n",
    "    \"AdaBoost\": AdaBoostClassifier(),\n",
    "    \"Naive Bayes\": GaussianNB(),\n",
    "    \"LDA\": LinearDiscriminantAnalysis(),\n",
    "    \"Logistic Regression\" : LogisticRegression(solver ='lbfgs',max_iter = 1000)}\n",
    "\n",
    "keys = list(clfs.keys())\n",
    "values = list(clfs.values())\n",
    "    \n",
    "\n",
    "#Using K-Fold Cross Validation to find the best accuracies/AUCs of each model  \n",
    "mean_aucs = []\n",
    "mean_accuracies = []\n",
    "model_names = []\n",
    "\n",
    "for v in values:\n",
    "    \n",
    "    kfold = model_selection.KFold(n_splits=5,shuffle=True,random_state=0)\n",
    "    auc = model_selection.cross_val_score(v,X,y,cv=kfold,scoring='roc_auc')\n",
    "    accuracy = model_selection.cross_val_score(v,X,y,cv=kfold,scoring='accuracy')\n",
    "    index = values.index(v)\n",
    "    mean_auc = auc.mean()\n",
    "    mean_accuracy = accuracy.mean() * 100\n",
    "    mean_aucs.append(mean_auc)\n",
    "    mean_accuracies.append(mean_accuracy)\n",
    "    model_name = keys[index]\n",
    "    model_names.append(model_name)\n",
    "\n",
    "mean_models = list(zip(mean_aucs,mean_accuracies, model_names))\n",
    "mean_models.sort()\n",
    "print(\"AUC/Accuracy/Model Name\")\n",
    "mean_models\n"
   ]
  },
  {
   "cell_type": "markdown",
   "metadata": {},
   "source": [
    "<hr style=\"border:1px solid gray\"> </hr>\n",
    "\n",
    "&nbsp;&nbsp;&nbsp;&nbsp;&nbsp;&nbsp;\n",
    "By finding the mean value of all of the AUC scores using 5-fold cross-validation for each model, we can now plot them using a bar graph to visualize which models are the best fit for our dataset.\n",
    "\n",
    "<hr style=\"border:1px solid gray\"> </hr>"
   ]
  },
  {
   "cell_type": "code",
   "execution_count": 19,
   "metadata": {},
   "outputs": [
    {
     "data": {
      "image/png": "[encoded data removed]",
      "text/plain": [
       "<Figure size 432x288 with 1 Axes>"
      ]
     },
     "metadata": {
      "needs_background": "light"
     },
     "output_type": "display_data"
    }
   ],
   "source": [
    "#plot AUC of each model\n",
    "fig = plt.figure()\n",
    "ax = fig.add_axes([0,0,1,1])\n",
    "bar = ax.bar(model_names, mean_aucs)\n",
    "plt.xticks(rotation = 'vertical')\n",
    "plt.title(\"AUC of Each Model\")\n",
    "plt.ylabel(\"AUC\")\n",
    "bar[3].set_color('#ffa600')\n",
    "bar[5].set_color('#ffa600')\n",
    "bar[6].set_color('#ffa600')\n",
    "plt.show()"
   ]
  },
  {
   "cell_type": "markdown",
   "metadata": {},
   "source": [
    "<hr style=\"border:1px solid gray\"> </hr>\n",
    "\n",
    "&nbsp;&nbsp;&nbsp;&nbsp;&nbsp;&nbsp;\n",
    "In the bar graph above we can see the 3 highest AUCs highlighted in yellow. Due to their high AUCs and accuracies, we have chosen to use the ***Logistic Regression***, ***AdaBoost***, and ***LDA*** models.\n",
    "\n",
    "&nbsp;&nbsp;&nbsp;&nbsp;&nbsp;&nbsp;\n",
    "<u>**Logistic Regression**</u> works well with binary classification models, although it doesn't work as well with multi-class classification. This would explain why it worked well in our classification problem, as we are only classifying a boolean value of whether or not a visitor to the e-commerce website will produce Revenue or not.\n",
    "\n",
    "&nbsp;&nbsp;&nbsp;&nbsp;&nbsp;&nbsp;\n",
    "<u>**Adaboost**</u> is a type of boosting algorithm, which combines several weaker models to create one stronger model. It performs better than random forests and is computationally faster, which could explain why this was one of our strongest models. However, it is important to note that after a certain number of iterations, it can begin to overfit, so we need to be careful to check this before selecting it as our final model.\n",
    "\n",
    "&nbsp;&nbsp;&nbsp;&nbsp;&nbsp;&nbsp;\n",
    "Linear Discriminant Analysis, or <u>**LDA**</u>, can be used as both a classifier and a dimensionality reduction technique. When used as a classifier, as we did for the purpose of this dataset, it uses the same underlying linear model as Logistic Regression, but LDA maximizes the complete likelihood while Logistic Regression maximizes only the conditional likelihood. \n",
    "\n",
    "&nbsp;&nbsp;&nbsp;&nbsp;&nbsp;&nbsp;\n",
    "Below we fit our models to the train and test datasets as defined earlier. We plot the ROC curves for the different models we've chosen, along with their AUC and accuracy scores from our test set.\n",
    "\n",
    "<hr style=\"border:1px solid gray\"> </hr>"
   ]
  },
  {
   "cell_type": "code",
   "execution_count": 20,
   "metadata": {
    "scrolled": true
   },
   "outputs": [
    {
     "name": "stdout",
     "output_type": "stream",
     "text": [
      "AdaBoost\n",
      "Accuracy: 0.8779399837793999\n",
      "AUC: 0.735036496350365\n"
     ]
    },
    {
     "data": {
      "image/png": "[encoded data removed]",
      "text/plain": [
       "<Figure size 432x288 with 1 Axes>"
      ]
     },
     "metadata": {
      "needs_background": "light"
     },
     "output_type": "display_data"
    },
    {
     "name": "stdout",
     "output_type": "stream",
     "text": [
      "Logistic Regression\n",
      "Accuracy: 0.8706407137064072\n",
      "AUC: 0.6596107055961071\n"
     ]
    },
    {
     "data": {
      "image/png": "[encoded data removed]",
      "text/plain": [
       "<Figure size 432x288 with 1 Axes>"
      ]
     },
     "metadata": {
      "needs_background": "light"
     },
     "output_type": "display_data"
    },
    {
     "name": "stdout",
     "output_type": "stream",
     "text": [
      "LDA\n",
      "Accuracy: 0.8657745336577454\n",
      "AUC: 0.635279805352798\n"
     ]
    },
    {
     "data": {
      "image/png": "[encoded data removed]",
      "text/plain": [
       "<Figure size 432x288 with 1 Axes>"
      ]
     },
     "metadata": {
      "needs_background": "light"
     },
     "output_type": "display_data"
    },
    {
     "name": "stdout",
     "output_type": "stream",
     "text": [
      "KNN\n",
      "Accuracy: 0.8552311435523114\n",
      "AUC: 0.6240875912408759\n"
     ]
    },
    {
     "data": {
      "image/png": "[encoded data removed]",
      "text/plain": [
       "<Figure size 432x288 with 1 Axes>"
      ]
     },
     "metadata": {
      "needs_background": "light"
     },
     "output_type": "display_data"
    }
   ],
   "source": [
    "#function used to classify Xs & ys for each model\n",
    "import seaborn as sns\n",
    "\n",
    "def plot_ROC(X_test,y_test,clf,title,auc):\n",
    "    # generate a no skill prediction (majority class)\n",
    "    ns_probs = [0 for _ in range(len(y_test))]\n",
    "    # predict probabilities\n",
    "    lr_probs = clf.predict_proba(X_test)\n",
    "    # keep probabilities for the positive outcome only\n",
    "    lr_probs = lr_probs[:, 1]\n",
    "    # calculate roc curves\n",
    "    ns_fpr, ns_tpr, _ = roc_curve(y_test, ns_probs) \n",
    "    lr_fpr, lr_tpr, _ = roc_curve(y_test, lr_probs) \n",
    "    # plot the roc curve for the model\n",
    "    pyplot.plot(ns_fpr, ns_tpr, linestyle='--')\n",
    "    pyplot.plot(lr_fpr, lr_tpr, marker='.')\n",
    "    # axis labels\n",
    "    pyplot.xlabel('False Positive Rate')\n",
    "    pyplot.ylabel('True Positive Rate')\n",
    "    pyplot.title(title + \" : AUC = {}\".format(round(auc,3)))\n",
    "    # show the plot\n",
    "    pyplot.show() \n",
    "\n",
    "def classify(X_train,X_test,y_train,y_test,clf_chosen):\n",
    "    AUCS = []\n",
    "    accuracies = []\n",
    "    i=0\n",
    "    for c in clf_chosen.values():\n",
    "        c.fit(X_train,y_train)\n",
    "        y_pred = c.predict(X_test)\n",
    "        auc = roc_auc_score(y_test, y_pred)\n",
    "        accuracy = accuracy_score(y_test, y_pred)\n",
    "        print(list(clf_chosen.keys())[i])\n",
    "        print(\"Accuracy:\",accuracy)\n",
    "        print(\"AUC:\",auc)\n",
    "        plot_ROC(X_test,y_test,c,list(clf_chosen.keys())[i],auc)\n",
    "        i+=1\n",
    "\n",
    "clf_chosen_update = {\n",
    "             \"AdaBoost\": AdaBoostClassifier(),\n",
    "             \"Logistic Regression\" : LogisticRegression(solver ='lbfgs',max_iter = 1000),\n",
    "             \"LDA\": LinearDiscriminantAnalysis(),\n",
    "                \"KNN\":  KNeighborsClassifier()}\n",
    "\n",
    "#classify using each model, prints out AUC & Accuracy        \n",
    "classify(X_train,X_test,y_train,y_test,clf_chosen_update)\n"
   ]
  },
  {
   "cell_type": "markdown",
   "metadata": {},
   "source": [
    "<hr style=\"border:1px solid gray\"> </hr>\n",
    "\n",
    "### **Finally, we will fine tune the parameters for our selected models:**\n",
    "\n",
    "---\n",
    "---\n",
    "\n",
    "&nbsp;&nbsp;&nbsp;&nbsp;&nbsp;&nbsp;\n",
    "For <u>**Logistic Regression**</u>, we use scikit-learn's 'GridSearchCV' function from model_selection to conduct an exhaustive test of the parameters C and penalty. C specifies the regularization strength and penalty is used to specialize the norm in penalization. We can see below that by tuning these parameters for logistic regression, our cross-validation score is **88.73%**.\n",
    "\n",
    "<u>**Best Parameters:**</u> <br/> \n",
    "`{'C': 7.742636826811269, 'penalty': 'l2'}`\n",
    "\n",
    "&nbsp;&nbsp;&nbsp;&nbsp;&nbsp;&nbsp;\n",
    "We then used these best parameters to run Logistic Regression on our testing set, resulting in an accuracy score of **86.9%**. This was slightly lower than our original model, which had a score of **87.06%**. Given that the difference is only **0.16%**, we conclude that tuning the hyperparameters did not make a significant improvement to our model. \n",
    "\n",
    "<hr style=\"border:1px solid gray\"> </hr>"
   ]
  },
  {
   "cell_type": "code",
   "execution_count": 21,
   "metadata": {},
   "outputs": [
    {
     "name": "stdout",
     "output_type": "stream",
     "text": [
      "{'C': 21.544346900318832, 'penalty': 'l2'}\n",
      "LogisticRegression(C=21.544346900318832, class_weight=None, dual=False,\n",
      "                   fit_intercept=True, intercept_scaling=1, l1_ratio=None,\n",
      "                   max_iter=1000, multi_class='warn', n_jobs=None, penalty='l2',\n",
      "                   random_state=None, solver='warn', tol=0.0001, verbose=0,\n",
      "                   warm_start=False)\n",
      "Accuracy:  0.8853406326034063\n"
     ]
    }
   ],
   "source": [
    "from sklearn.model_selection import GridSearchCV\n",
    "import warnings\n",
    "warnings.filterwarnings('ignore')\n",
    "\n",
    "logistic = LogisticRegression(max_iter = 1000)\n",
    "penalty = ['l1', 'l2']\n",
    "C = np.logspace(0, 4, 10)\n",
    "hyperparameters = dict(C=C, penalty=penalty)\n",
    "clf = GridSearchCV(logistic, hyperparameters, cv=5, verbose=0)\n",
    "clf.fit(X_train, y_train)\n",
    "pred = clf.predict(X_test)\n",
    "print(clf.best_params_)\n",
    "print(clf.best_estimator_)\n",
    "print(\"Accuracy: \",clf.best_score_)\n"
   ]
  },
  {
   "cell_type": "code",
   "execution_count": 22,
   "metadata": {},
   "outputs": [
    {
     "name": "stdout",
     "output_type": "stream",
     "text": [
      "Accuracy: 0.870235198702352\n",
      "AUC: 0.6583941605839416\n"
     ]
    },
    {
     "data": {
      "image/png": "[encoded data removed]",
      "text/plain": [
       "<Figure size 432x288 with 1 Axes>"
      ]
     },
     "metadata": {
      "needs_background": "light"
     },
     "output_type": "display_data"
    }
   ],
   "source": [
    "logistic_tuned = LogisticRegression(C= 7.742636826811269, penalty= 'l2',solver ='lbfgs',max_iter = 1000)\n",
    "\n",
    "logistic_tuned.fit(X_train,y_train)\n",
    "\n",
    "y_pred = logistic_tuned.predict(X_test)\n",
    "\n",
    "auc = roc_auc_score(y_test, y_pred)\n",
    "\n",
    "accuracy = accuracy_score(y_test, y_pred)\n",
    "\n",
    "\n",
    "\n",
    "print(\"Accuracy:\",accuracy)\n",
    "\n",
    "print(\"AUC:\",auc)\n",
    "\n",
    "plot_ROC(X_test,y_test,logistic_tuned,'Logistic Regression',auc)\n",
    "\n"
   ]
  },
  {
   "cell_type": "markdown",
   "metadata": {},
   "source": [
    "<hr style=\"border:1px solid gray\"> </hr>\n",
    "\n",
    "&nbsp;&nbsp;&nbsp;&nbsp;&nbsp;&nbsp;\n",
    "We did not tune any hyperparameters for <u>**LDA**</u> because according to the scikit-learn [docs](https://scikit-learn.org/stable/modules/lda_qda.html), LDA \"have closed-form solutions that can be easily computed, are inherently multiclass, have proven to work well in practice, and have no hyperparameters to tune.\" Our final accuracy score from our original model for LDA was **86.62%**. \n",
    "\n",
    "<hr style=\"border:1px solid gray\"> </hr>\n",
    "\n",
    "&nbsp;&nbsp;&nbsp;&nbsp;&nbsp;&nbsp;\n",
    "Next, we tune the hyperparameters for <u>**AdaBoost**</u> again using GridSearch.\n",
    "\n",
    "<hr style=\"border:1px solid gray\"> </hr>"
   ]
  },
  {
   "cell_type": "code",
   "execution_count": 23,
   "metadata": {},
   "outputs": [
    {
     "name": "stdout",
     "output_type": "stream",
     "text": [
      "{'learning_rate': 0.01, 'n_estimators': 500}\n",
      "0.8956812652068127\n"
     ]
    }
   ],
   "source": [
    "ada=AdaBoostClassifier()\n",
    "search_grid={'n_estimators':[500,1000,2000],'learning_rate':[.001,0.01,.1]}\n",
    "crossvalidation=KFold(n_splits=10,shuffle=True,random_state=1)\n",
    "search=GridSearchCV(estimator=ada,param_grid=search_grid,scoring='accuracy',n_jobs=1,cv=crossvalidation)\n",
    "search.fit(X_train,y_train)\n",
    "print(search.best_params_)\n",
    "print(search.best_score_)\n",
    "\n"
   ]
  },
  {
   "cell_type": "markdown",
   "metadata": {},
   "source": [
    "<hr style=\"border:1px solid gray\"> </hr>\n",
    "\n",
    "&nbsp;&nbsp;&nbsp;&nbsp;&nbsp;&nbsp;\n",
    "We found the best parameters for <u>**AdaBoost**</u> to be ***learning_rate*** = 0.01 and ***n_estimators*** = 500. Using these parameters, we fit the model with our train set, and achieved an accuracy score of **88.08%** for our test set, which was higher than our original model with a test accuracy of **87.99%**. We conclude that the hyperparameters improved our AdaBoost model. \n",
    "\n",
    "<hr style=\"border:1px solid gray\"> </hr>"
   ]
  },
  {
   "cell_type": "code",
   "execution_count": 24,
   "metadata": {},
   "outputs": [
    {
     "name": "stdout",
     "output_type": "stream",
     "text": [
      "0.8807785888077859\n"
     ]
    },
    {
     "data": {
      "image/png": "[encoded data removed]",
      "text/plain": [
       "<Figure size 432x288 with 1 Axes>"
      ]
     },
     "metadata": {
      "needs_background": "light"
     },
     "output_type": "display_data"
    }
   ],
   "source": [
    "ada1=AdaBoostClassifier(learning_rate=0.01,n_estimators=500)\n",
    "\n",
    "ada1.fit(X_train,y_train)\n",
    "y_pred = ada1.predict(X_test)\n",
    "\n",
    "auc = roc_auc_score(y_test, y_pred)\n",
    "accuracy = accuracy_score(y_test, y_pred)\n",
    "print(accuracy)\n",
    "plot_ROC(X_test,y_test,ada1,'AdaBoost',auc)"
   ]
  },
  {
   "cell_type": "markdown",
   "metadata": {},
   "source": [
    "<hr style=\"border:1px solid gray\"> </hr>\n",
    "\n",
    "&nbsp;&nbsp;&nbsp;&nbsp;&nbsp;&nbsp;\n",
    "Below we have defined a set of possible parameters for our <u>**KNN**</u> model. We decided to tune the hyperparameters of KNN because with LDA there were no parameters to tune. We wanted to compare one of our lowest accuracy models to see how it compared to our top models after tuning it's parameters. We will test every combination of them with GridSearch which will conduct an exhaustive search on the parameters. The parameters we are testing are ***n_neighbors*** (the number of nearest neighbors to use), ***weights*** (the weight function to be used for prediction), and the ***metric*** (the distance metric to be used in the tree). As we can see from the results, by tuning our hyperparameters our accuracy score was **85.48%** compared to the original **85.64%** from our base model. We conclude that fine-tuning the parameters for KNN did not yield a higher test accuracy. \n",
    "\n",
    "<hr style=\"border:1px solid gray\"> </hr>"
   ]
  },
  {
   "cell_type": "code",
   "execution_count": 25,
   "metadata": {},
   "outputs": [
    {
     "name": "stdout",
     "output_type": "stream",
     "text": [
      "Fitting 3 folds for each of 16 candidates, totalling 48 fits\n"
     ]
    },
    {
     "name": "stderr",
     "output_type": "stream",
     "text": [
      "[Parallel(n_jobs=-1)]: Using backend LokyBackend with 8 concurrent workers.\n",
      "[Parallel(n_jobs=-1)]: Done  48 out of  48 | elapsed:    5.5s finished\n"
     ]
    }
   ],
   "source": [
    "grid_params  =  {\n",
    "    'n_neighbors': [3,5,11, 19],\n",
    "    'weights': ['uniform',  'distance'],\n",
    "    'metric': ['euclidean', 'manhattan']\n",
    "}\n",
    "\n",
    "gs = GridSearchCV(\n",
    "    KNeighborsClassifier(),\n",
    "    grid_params,\n",
    "    verbose = 1,\n",
    "    cv = 3,\n",
    "    n_jobs = -1\n",
    ")\n",
    "\n",
    "gs_results = gs.fit(X_train, y_train)"
   ]
  },
  {
   "cell_type": "code",
   "execution_count": 26,
   "metadata": {},
   "outputs": [
    {
     "data": {
      "text/plain": [
       "{'metric': 'euclidean', 'n_neighbors': 11, 'weights': 'uniform'}"
      ]
     },
     "execution_count": 26,
     "metadata": {},
     "output_type": "execute_result"
    }
   ],
   "source": [
    "gs_results.best_params_"
   ]
  },
  {
   "cell_type": "code",
   "execution_count": 27,
   "metadata": {},
   "outputs": [
    {
     "name": "stdout",
     "output_type": "stream",
     "text": [
      "0.8560421735604218\n"
     ]
    },
    {
     "data": {
      "image/png": "[encoded data removed]",
      "text/plain": [
       "<Figure size 432x288 with 1 Axes>"
      ]
     },
     "metadata": {
      "needs_background": "light"
     },
     "output_type": "display_data"
    }
   ],
   "source": [
    "knn_tuned = KNeighborsClassifier(metric= 'euclidean', n_neighbors= 11, weights= 'uniform')\n",
    "knn_tuned.fit(X_train, y_train)\n",
    "\n",
    "y_pred = knn_tuned.predict(X_test)\n",
    "\n",
    "auc = roc_auc_score(y_test, y_pred)\n",
    "\n",
    "accuracy = accuracy_score(y_test, y_pred)\n",
    "print(accuracy)\n",
    "plot_ROC(X_test,y_test,knn_tuned,'KNN',auc)"
   ]
  },
  {
   "cell_type": "markdown",
   "metadata": {},
   "source": [
    "<hr style=\"border:1px solid gray\"> </hr>\n",
    "\n",
    "&nbsp;&nbsp;&nbsp;&nbsp;&nbsp;&nbsp;\n",
    "Finally, we conclude that the best-fit model to our Online Shopping Intentions dataset is <u>**Adaboost**</u> with a ***learning rate*** = 0.01 and ***n_estimators*** = 500, resulting in a **Test Accuracy score of 88.08%** and **AUC score of 72.6%**. Adaboost was our best-fit model due to the fact that it combines several weak-learner algorithms and gradually course-corrects to a better fit model."
   ]
  },
  {
   "cell_type": "markdown",
   "metadata": {
    "cell_id": "c3be6c7a-d250-40f5-8868-45526a929c3b",
    "tags": []
   },
   "source": [
    "<hr style=\"border:1px solid gray\"> </hr>\n",
    "<hr style=\"border:1px solid gray\"> </hr>\n",
    "\n",
    "<h2><center>Future Plans (10%)</center></h2>\n",
    "\n",
    "<hr style=\"border:1px solid gray\"> </hr>\n",
    "\n",
    "&nbsp;&nbsp;&nbsp;&nbsp;&nbsp;&nbsp;\n",
    "This dataset has a number of opportunities for further exploration. In terms of models, we predict that it would be worth training and applying a Neural Network to this dataset to see if it can yield a higher AUC/accuracy scores. Neural Networks require a large amount of data to be most effective which is why we did not implement any this time but would be interested in doing so in the future.\n",
    "\n",
    "&nbsp;&nbsp;&nbsp;&nbsp;&nbsp;&nbsp;\n",
    "We are also interested in expanding this analysis to include more data from different websites. Do different types of e-commerce website yield different results? We could also add in additional factors for consideration such as how each website advertises, website layouts, and what platforms they engage with the majority of their customers. This type of dataset is not normally published by businesses due to the sensitivity of the information, making it unattainable at the time of this report.\n",
    "\n",
    "This study is important to seeing what really drives consumer intention when visiting an e-commerce website. The results can be used to increase revenue to a site by focusing on what features impact revenue the most."
   ]
  },
  {
   "cell_type": "code",
   "execution_count": null,
   "metadata": {},
   "outputs": [],
   "source": []
  }
 ],
 "metadata": {
  "deepnote_execution_queue": [],
  "deepnote_notebook_id": "31a1abae-43f4-46f2-9cff-e92eb3ce04db",
  "kernelspec": {
   "display_name": "Python 3",
   "language": "python",
   "name": "python3"
  },
  "language_info": {
   "codemirror_mode": {
    "name": "ipython",
    "version": 3
   },
   "file_extension": ".py",
   "mimetype": "text/x-python",
   "name": "python",
   "nbconvert_exporter": "python",
   "pygments_lexer": "ipython3",
   "version": "3.7.4"
  }
 },
 "nbformat": 4,
 "nbformat_minor": 2
}
